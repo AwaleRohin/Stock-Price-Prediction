{
  "nbformat": 4,
  "nbformat_minor": 0,
  "metadata": {
    "colab": {
      "name": "Apple Stock Price Prediction.ipynb",
      "provenance": [],
      "collapsed_sections": [],
      "authorship_tag": "ABX9TyNMkYcs+2Td+ZV1rx1cC5FS"
    },
    "kernelspec": {
      "name": "python3",
      "display_name": "Python 3"
    },
    "accelerator": "GPU"
  },
  "cells": [
    {
      "cell_type": "code",
      "metadata": {
        "id": "edif3gdYYkBu",
        "colab_type": "code",
        "colab": {}
      },
      "source": [
        "# This program uses artifical nueral netwrok called long short term memeory (LSTM) \n",
        "# to predict closing price of the Apple using past 60 day data"
      ],
      "execution_count": null,
      "outputs": []
    },
    {
      "cell_type": "code",
      "metadata": {
        "id": "gJMRrMadZLh6",
        "colab_type": "code",
        "colab": {
          "base_uri": "https://localhost:8080/",
          "height": 81
        },
        "outputId": "4c63479d-2a49-4a46-9a0a-8d4368170493"
      },
      "source": [
        "import math\n",
        "import pandas as pd\n",
        "import numpy as np\n",
        "import pandas_datareader as web\n",
        "from sklearn.preprocessing import MinMaxScaler\n",
        "from keras.models import Sequential\n",
        "from keras.layers import Dense, LSTM\n",
        "import matplotlib.pyplot as plt\n",
        "plt.style.use('fivethirtyeight')"
      ],
      "execution_count": null,
      "outputs": [
        {
          "output_type": "stream",
          "text": [
            "Using TensorFlow backend.\n"
          ],
          "name": "stderr"
        },
        {
          "output_type": "display_data",
          "data": {
            "text/html": [
              "<p style=\"color: red;\">\n",
              "The default version of TensorFlow in Colab will soon switch to TensorFlow 2.x.<br>\n",
              "We recommend you <a href=\"https://www.tensorflow.org/guide/migrate\" target=\"_blank\">upgrade</a> now \n",
              "or ensure your notebook will continue to use TensorFlow 1.x via the <code>%tensorflow_version 1.x</code> magic:\n",
              "<a href=\"https://colab.research.google.com/notebooks/tensorflow_version.ipynb\" target=\"_blank\">more info</a>.</p>\n"
            ],
            "text/plain": [
              "<IPython.core.display.HTML object>"
            ]
          },
          "metadata": {
            "tags": []
          }
        }
      ]
    },
    {
      "cell_type": "code",
      "metadata": {
        "id": "C4gAskoNaJxu",
        "colab_type": "code",
        "colab": {
          "base_uri": "https://localhost:8080/",
          "height": 436
        },
        "outputId": "2f274a58-332b-4114-a004-ac8340f535fa"
      },
      "source": [
        "# Get stock Quote of Apple Inc.\n",
        "df = web.DataReader('AAPL', data_source='yahoo', start='2012-01-01', end='2020-01-30')\n",
        "# Show the data\n",
        "df"
      ],
      "execution_count": null,
      "outputs": [
        {
          "output_type": "execute_result",
          "data": {
            "text/html": [
              "<div>\n",
              "<style scoped>\n",
              "    .dataframe tbody tr th:only-of-type {\n",
              "        vertical-align: middle;\n",
              "    }\n",
              "\n",
              "    .dataframe tbody tr th {\n",
              "        vertical-align: top;\n",
              "    }\n",
              "\n",
              "    .dataframe thead th {\n",
              "        text-align: right;\n",
              "    }\n",
              "</style>\n",
              "<table border=\"1\" class=\"dataframe\">\n",
              "  <thead>\n",
              "    <tr style=\"text-align: right;\">\n",
              "      <th></th>\n",
              "      <th>High</th>\n",
              "      <th>Low</th>\n",
              "      <th>Open</th>\n",
              "      <th>Close</th>\n",
              "      <th>Volume</th>\n",
              "      <th>Adj Close</th>\n",
              "    </tr>\n",
              "    <tr>\n",
              "      <th>Date</th>\n",
              "      <th></th>\n",
              "      <th></th>\n",
              "      <th></th>\n",
              "      <th></th>\n",
              "      <th></th>\n",
              "      <th></th>\n",
              "    </tr>\n",
              "  </thead>\n",
              "  <tbody>\n",
              "    <tr>\n",
              "      <th>2012-01-03</th>\n",
              "      <td>58.928570</td>\n",
              "      <td>58.428570</td>\n",
              "      <td>58.485714</td>\n",
              "      <td>58.747143</td>\n",
              "      <td>75555200.0</td>\n",
              "      <td>50.994907</td>\n",
              "    </tr>\n",
              "    <tr>\n",
              "      <th>2012-01-04</th>\n",
              "      <td>59.240002</td>\n",
              "      <td>58.468571</td>\n",
              "      <td>58.571430</td>\n",
              "      <td>59.062859</td>\n",
              "      <td>65005500.0</td>\n",
              "      <td>51.268970</td>\n",
              "    </tr>\n",
              "    <tr>\n",
              "      <th>2012-01-05</th>\n",
              "      <td>59.792858</td>\n",
              "      <td>58.952858</td>\n",
              "      <td>59.278572</td>\n",
              "      <td>59.718571</td>\n",
              "      <td>67817400.0</td>\n",
              "      <td>51.838169</td>\n",
              "    </tr>\n",
              "    <tr>\n",
              "      <th>2012-01-06</th>\n",
              "      <td>60.392857</td>\n",
              "      <td>59.888573</td>\n",
              "      <td>59.967144</td>\n",
              "      <td>60.342857</td>\n",
              "      <td>79573200.0</td>\n",
              "      <td>52.380054</td>\n",
              "    </tr>\n",
              "    <tr>\n",
              "      <th>2012-01-09</th>\n",
              "      <td>61.107143</td>\n",
              "      <td>60.192856</td>\n",
              "      <td>60.785713</td>\n",
              "      <td>60.247143</td>\n",
              "      <td>98506100.0</td>\n",
              "      <td>52.296970</td>\n",
              "    </tr>\n",
              "    <tr>\n",
              "      <th>...</th>\n",
              "      <td>...</td>\n",
              "      <td>...</td>\n",
              "      <td>...</td>\n",
              "      <td>...</td>\n",
              "      <td>...</td>\n",
              "      <td>...</td>\n",
              "    </tr>\n",
              "    <tr>\n",
              "      <th>2020-01-24</th>\n",
              "      <td>323.329987</td>\n",
              "      <td>317.519989</td>\n",
              "      <td>320.250000</td>\n",
              "      <td>318.309998</td>\n",
              "      <td>36634400.0</td>\n",
              "      <td>317.556335</td>\n",
              "    </tr>\n",
              "    <tr>\n",
              "      <th>2020-01-27</th>\n",
              "      <td>311.769989</td>\n",
              "      <td>304.880005</td>\n",
              "      <td>310.059998</td>\n",
              "      <td>308.950012</td>\n",
              "      <td>40485000.0</td>\n",
              "      <td>308.218506</td>\n",
              "    </tr>\n",
              "    <tr>\n",
              "      <th>2020-01-28</th>\n",
              "      <td>318.399994</td>\n",
              "      <td>312.190002</td>\n",
              "      <td>312.600006</td>\n",
              "      <td>317.690002</td>\n",
              "      <td>40558500.0</td>\n",
              "      <td>316.937805</td>\n",
              "    </tr>\n",
              "    <tr>\n",
              "      <th>2020-01-29</th>\n",
              "      <td>327.850006</td>\n",
              "      <td>321.380005</td>\n",
              "      <td>324.450012</td>\n",
              "      <td>324.339996</td>\n",
              "      <td>54057300.0</td>\n",
              "      <td>323.572052</td>\n",
              "    </tr>\n",
              "    <tr>\n",
              "      <th>2020-01-30</th>\n",
              "      <td>324.089996</td>\n",
              "      <td>318.750000</td>\n",
              "      <td>320.540009</td>\n",
              "      <td>323.869995</td>\n",
              "      <td>31685800.0</td>\n",
              "      <td>323.103180</td>\n",
              "    </tr>\n",
              "  </tbody>\n",
              "</table>\n",
              "<p>2032 rows × 6 columns</p>\n",
              "</div>"
            ],
            "text/plain": [
              "                  High         Low  ...      Volume   Adj Close\n",
              "Date                                ...                        \n",
              "2012-01-03   58.928570   58.428570  ...  75555200.0   50.994907\n",
              "2012-01-04   59.240002   58.468571  ...  65005500.0   51.268970\n",
              "2012-01-05   59.792858   58.952858  ...  67817400.0   51.838169\n",
              "2012-01-06   60.392857   59.888573  ...  79573200.0   52.380054\n",
              "2012-01-09   61.107143   60.192856  ...  98506100.0   52.296970\n",
              "...                ...         ...  ...         ...         ...\n",
              "2020-01-24  323.329987  317.519989  ...  36634400.0  317.556335\n",
              "2020-01-27  311.769989  304.880005  ...  40485000.0  308.218506\n",
              "2020-01-28  318.399994  312.190002  ...  40558500.0  316.937805\n",
              "2020-01-29  327.850006  321.380005  ...  54057300.0  323.572052\n",
              "2020-01-30  324.089996  318.750000  ...  31685800.0  323.103180\n",
              "\n",
              "[2032 rows x 6 columns]"
            ]
          },
          "metadata": {
            "tags": []
          },
          "execution_count": 3
        }
      ]
    },
    {
      "cell_type": "code",
      "metadata": {
        "id": "QmKe2tXjbjQn",
        "colab_type": "code",
        "colab": {
          "base_uri": "https://localhost:8080/",
          "height": 34
        },
        "outputId": "60d8d2c8-8c2f-4f5a-d58f-63bf05c2cc00"
      },
      "source": [
        "# Get the number of rows and column\n",
        "df.shape"
      ],
      "execution_count": null,
      "outputs": [
        {
          "output_type": "execute_result",
          "data": {
            "text/plain": [
              "(2032, 6)"
            ]
          },
          "metadata": {
            "tags": []
          },
          "execution_count": 4
        }
      ]
    },
    {
      "cell_type": "code",
      "metadata": {
        "id": "3chbA22Dbrur",
        "colab_type": "code",
        "colab": {
          "base_uri": "https://localhost:8080/",
          "height": 681
        },
        "outputId": "e8d3a5c8-e8ad-4eed-90d8-77ef398e0e4f"
      },
      "source": [
        "# Visualize the closing price history\n",
        "plt.figure(figsize = (16,8))\n",
        "plt.title('Close Price Histroy')\n",
        "plt.plot(df['Close'])\n",
        "plt.xlabel('Date',fontsize='16')\n",
        "plt.ylabel('Close Price', fontsize='16')\n",
        "plt.show()\n"
      ],
      "execution_count": null,
      "outputs": [
        {
          "output_type": "stream",
          "text": [
            "/usr/local/lib/python3.6/dist-packages/pandas/plotting/_matplotlib/converter.py:103: FutureWarning: Using an implicitly registered datetime converter for a matplotlib plotting method. The converter was registered by pandas on import. Future versions of pandas will require you to explicitly register matplotlib converters.\n",
            "\n",
            "To register the converters:\n",
            "\t>>> from pandas.plotting import register_matplotlib_converters\n",
            "\t>>> register_matplotlib_converters()\n",
            "  warnings.warn(msg, FutureWarning)\n"
          ],
          "name": "stderr"
        },
        {
          "output_type": "display_data",
          "data": {
            "image/png": "[encoded data removed]",
            "text/plain": [
              "<Figure size 1152x576 with 1 Axes>"
            ]
          },
          "metadata": {
            "tags": []
          }
        }
      ]
    },
    {
      "cell_type": "code",
      "metadata": {
        "id": "0MsQ6MOjdCZ_",
        "colab_type": "code",
        "colab": {
          "base_uri": "https://localhost:8080/",
          "height": 34
        },
        "outputId": "46f29372-3967-428c-ab42-a8f6502eae1d"
      },
      "source": [
        "# Create a new dataframe with only close column\n",
        "data = df.filter(['Close'])\n",
        "# Convert the dataframe to numpy \n",
        "dataset = data.values\n",
        "# Get the number of rows to train the model on\n",
        "training_data_len = math.ceil(len(dataset)*0.8)\n",
        "training_data_len"
      ],
      "execution_count": null,
      "outputs": [
        {
          "output_type": "execute_result",
          "data": {
            "text/plain": [
              "1626"
            ]
          },
          "metadata": {
            "tags": []
          },
          "execution_count": 6
        }
      ]
    },
    {
      "cell_type": "code",
      "metadata": {
        "id": "KBfKn765elre",
        "colab_type": "code",
        "colab": {
          "base_uri": "https://localhost:8080/",
          "height": 141
        },
        "outputId": "a8d5be3f-711f-41a1-e695-589a083c399e"
      },
      "source": [
        "# Scale the data\n",
        "scaler = MinMaxScaler(feature_range=(0,1))\n",
        "scaled_data = scaler.fit_transform(dataset)\n",
        "scaled_data"
      ],
      "execution_count": null,
      "outputs": [
        {
          "output_type": "execute_result",
          "data": {
            "text/plain": [
              "array([[0.01101151],\n",
              "       [0.01218714],\n",
              "       [0.01462882],\n",
              "       ...,\n",
              "       [0.97523741],\n",
              "       [1.        ],\n",
              "       [0.99824986]])"
            ]
          },
          "metadata": {
            "tags": []
          },
          "execution_count": 7
        }
      ]
    },
    {
      "cell_type": "code",
      "metadata": {
        "id": "sezW3fCpfJSf",
        "colab_type": "code",
        "colab": {
          "base_uri": "https://localhost:8080/",
          "height": 674
        },
        "outputId": "9caf7600-4d30-4dcc-a348-4b70c5bb6cb3"
      },
      "source": [
        "# Create the training dataset\n",
        "# Create the scaled training dataset\n",
        "train_data = scaled_data[0:training_data_len, :]\n",
        "# Split the data in xtrain and ytrain dataset\n",
        "x_train = []\n",
        "y_train = []\n",
        "\n",
        "for i in range(60,len(train_data)):\n",
        "  x_train.append(train_data[i-60:i,0])\n",
        "  y_train.append(train_data[i,0])\n",
        "  if i<=61:\n",
        "    print(x_train)\n",
        "    print(y_train)\n",
        "\n",
        "# In first pass through the lopp x_train has one array but in second pass thorugh\n",
        "# there are two array. Second array's first element is equal to second element of\n",
        "# first array and y_train's first element is the same of the second array's last \n",
        "# element"
      ],
      "execution_count": null,
      "outputs": [
        {
          "output_type": "stream",
          "text": [
            "[array([0.01101151, 0.01218714, 0.01462882, 0.01695348, 0.01659707,\n",
            "       0.01740032, 0.01703327, 0.0164162 , 0.01557571, 0.01817698,\n",
            "       0.02052292, 0.01979945, 0.01583637, 0.01961858, 0.01589488,\n",
            "       0.02985876, 0.02877888, 0.03018858, 0.03323669, 0.03508257,\n",
            "       0.03492831, 0.03435912, 0.03678485, 0.03906693, 0.04165226,\n",
            "       0.04582813, 0.0546001 , 0.05473309, 0.05961647, 0.06326568,\n",
            "       0.05699389, 0.05940899, 0.05936112, 0.06613295, 0.06517009,\n",
            "       0.06695214, 0.07015452, 0.0719366 , 0.07706998, 0.08080965,\n",
            "       0.0818895 , 0.0822672 , 0.07587309, 0.07433039, 0.07455914,\n",
            "       0.08057024, 0.08226189, 0.08589514, 0.09445966, 0.10588611,\n",
            "       0.10374764, 0.10375295, 0.11201426, 0.11459956, 0.11275899,\n",
            "       0.11107802, 0.10932788, 0.11514215, 0.11913185, 0.1208022 ])]\n",
            "[0.11667419757475875]\n",
            "[array([0.01101151, 0.01218714, 0.01462882, 0.01695348, 0.01659707,\n",
            "       0.01740032, 0.01703327, 0.0164162 , 0.01557571, 0.01817698,\n",
            "       0.02052292, 0.01979945, 0.01583637, 0.01961858, 0.01589488,\n",
            "       0.02985876, 0.02877888, 0.03018858, 0.03323669, 0.03508257,\n",
            "       0.03492831, 0.03435912, 0.03678485, 0.03906693, 0.04165226,\n",
            "       0.04582813, 0.0546001 , 0.05473309, 0.05961647, 0.06326568,\n",
            "       0.05699389, 0.05940899, 0.05936112, 0.06613295, 0.06517009,\n",
            "       0.06695214, 0.07015452, 0.0719366 , 0.07706998, 0.08080965,\n",
            "       0.0818895 , 0.0822672 , 0.07587309, 0.07433039, 0.07455914,\n",
            "       0.08057024, 0.08226189, 0.08589514, 0.09445966, 0.10588611,\n",
            "       0.10374764, 0.10375295, 0.11201426, 0.11459956, 0.11275899,\n",
            "       0.11107802, 0.10932788, 0.11514215, 0.11913185, 0.1208022 ]), array([0.01218714, 0.01462882, 0.01695348, 0.01659707, 0.01740032,\n",
            "       0.01703327, 0.0164162 , 0.01557571, 0.01817698, 0.02052292,\n",
            "       0.01979945, 0.01583637, 0.01961858, 0.01589488, 0.02985876,\n",
            "       0.02877888, 0.03018858, 0.03323669, 0.03508257, 0.03492831,\n",
            "       0.03435912, 0.03678485, 0.03906693, 0.04165226, 0.04582813,\n",
            "       0.0546001 , 0.05473309, 0.05961647, 0.06326568, 0.05699389,\n",
            "       0.05940899, 0.05936112, 0.06613295, 0.06517009, 0.06695214,\n",
            "       0.07015452, 0.0719366 , 0.07706998, 0.08080965, 0.0818895 ,\n",
            "       0.0822672 , 0.07587309, 0.07433039, 0.07455914, 0.08057024,\n",
            "       0.08226189, 0.08589514, 0.09445966, 0.10588611, 0.10374764,\n",
            "       0.10375295, 0.11201426, 0.11459956, 0.11275899, 0.11107802,\n",
            "       0.10932788, 0.11514215, 0.11913185, 0.1208022 , 0.1166742 ])]\n",
            "[0.11667419757475875, 0.11118972675232822]\n"
          ],
          "name": "stdout"
        }
      ]
    },
    {
      "cell_type": "code",
      "metadata": {
        "id": "6kWygTqEhnM8",
        "colab_type": "code",
        "colab": {}
      },
      "source": [
        "# Convert the x_train and y_train to numpy\n",
        "x_train, y_train = np.array(x_train),np.array(y_train)\n"
      ],
      "execution_count": null,
      "outputs": []
    },
    {
      "cell_type": "code",
      "metadata": {
        "id": "uclK8jo_iv9r",
        "colab_type": "code",
        "colab": {
          "base_uri": "https://localhost:8080/",
          "height": 34
        },
        "outputId": "866ac86f-f1f8-4ef7-af37-c5f715c24768"
      },
      "source": [
        "# Reshape the x_train data\n",
        "# LSTM network expects the input to be in 3D in form of no.of sample, no. of timestep\n",
        "# and no. of feature\n",
        "x_train = np.reshape(x_train, (x_train.shape[0], x_train.shape[1],1))\n",
        "x_train.shape"
      ],
      "execution_count": null,
      "outputs": [
        {
          "output_type": "execute_result",
          "data": {
            "text/plain": [
              "(1566, 60, 1)"
            ]
          },
          "metadata": {
            "tags": []
          },
          "execution_count": 10
        }
      ]
    },
    {
      "cell_type": "code",
      "metadata": {
        "id": "ZF3e-ucfjvoz",
        "colab_type": "code",
        "colab": {
          "base_uri": "https://localhost:8080/",
          "height": 143
        },
        "outputId": "4420fa47-f3d8-4eb0-84c4-d82154102056"
      },
      "source": [
        "# Build the Model\n",
        "model = Sequential()\n",
        "model.add(LSTM(50, return_sequences=True, input_shape = (x_train.shape[1],1)))\n",
        "# return_sequence = True because we are using another LSTM Layer for model architecture\n",
        "model.add(LSTM(50, return_sequences=False, ))\n",
        "model.add(Dense(25))\n",
        "model.add(Dense(1))"
      ],
      "execution_count": null,
      "outputs": [
        {
          "output_type": "stream",
          "text": [
            "WARNING:tensorflow:From /usr/local/lib/python3.6/dist-packages/keras/backend/tensorflow_backend.py:66: The name tf.get_default_graph is deprecated. Please use tf.compat.v1.get_default_graph instead.\n",
            "\n",
            "WARNING:tensorflow:From /usr/local/lib/python3.6/dist-packages/keras/backend/tensorflow_backend.py:541: The name tf.placeholder is deprecated. Please use tf.compat.v1.placeholder instead.\n",
            "\n",
            "WARNING:tensorflow:From /usr/local/lib/python3.6/dist-packages/keras/backend/tensorflow_backend.py:4432: The name tf.random_uniform is deprecated. Please use tf.random.uniform instead.\n",
            "\n"
          ],
          "name": "stdout"
        }
      ]
    },
    {
      "cell_type": "code",
      "metadata": {
        "id": "QVnCaopdlPnZ",
        "colab_type": "code",
        "colab": {
          "base_uri": "https://localhost:8080/",
          "height": 52
        },
        "outputId": "836df667-50fd-43af-9873-6b6d8eb57811"
      },
      "source": [
        "# Complie the model\n",
        "model.compile(optimizer='adam', loss='mean_squared_error')\n",
        "# Optimizer is used to upon imporve loss function\n",
        "# Loss function is used to mesaure how well the model did on training"
      ],
      "execution_count": null,
      "outputs": [
        {
          "output_type": "stream",
          "text": [
            "WARNING:tensorflow:From /usr/local/lib/python3.6/dist-packages/keras/optimizers.py:793: The name tf.train.Optimizer is deprecated. Please use tf.compat.v1.train.Optimizer instead.\n",
            "\n"
          ],
          "name": "stdout"
        }
      ]
    },
    {
      "cell_type": "code",
      "metadata": {
        "id": "Wx53lXL3lw_m",
        "colab_type": "code",
        "colab": {
          "base_uri": "https://localhost:8080/",
          "height": 427
        },
        "outputId": "dc772eb3-3d23-4846-81b4-30eea665d5c3"
      },
      "source": [
        "# Train the model\n",
        "model.fit(x_train, y_train, batch_size=1,epochs=1)\n",
        "# Epochs is the number of iteration when the entire dataset is passed forward and backward in neural network"
      ],
      "execution_count": null,
      "outputs": [
        {
          "output_type": "stream",
          "text": [
            "WARNING:tensorflow:From /usr/local/lib/python3.6/dist-packages/tensorflow_core/python/ops/math_grad.py:1424: where (from tensorflow.python.ops.array_ops) is deprecated and will be removed in a future version.\n",
            "Instructions for updating:\n",
            "Use tf.where in 2.0, which has the same broadcast rule as np.where\n",
            "WARNING:tensorflow:From /usr/local/lib/python3.6/dist-packages/keras/backend/tensorflow_backend.py:1033: The name tf.assign_add is deprecated. Please use tf.compat.v1.assign_add instead.\n",
            "\n",
            "WARNING:tensorflow:From /usr/local/lib/python3.6/dist-packages/keras/backend/tensorflow_backend.py:1020: The name tf.assign is deprecated. Please use tf.compat.v1.assign instead.\n",
            "\n",
            "WARNING:tensorflow:From /usr/local/lib/python3.6/dist-packages/keras/backend/tensorflow_backend.py:3005: The name tf.Session is deprecated. Please use tf.compat.v1.Session instead.\n",
            "\n",
            "Epoch 1/1\n",
            "WARNING:tensorflow:From /usr/local/lib/python3.6/dist-packages/keras/backend/tensorflow_backend.py:190: The name tf.get_default_session is deprecated. Please use tf.compat.v1.get_default_session instead.\n",
            "\n",
            "WARNING:tensorflow:From /usr/local/lib/python3.6/dist-packages/keras/backend/tensorflow_backend.py:197: The name tf.ConfigProto is deprecated. Please use tf.compat.v1.ConfigProto instead.\n",
            "\n",
            "WARNING:tensorflow:From /usr/local/lib/python3.6/dist-packages/keras/backend/tensorflow_backend.py:207: The name tf.global_variables is deprecated. Please use tf.compat.v1.global_variables instead.\n",
            "\n",
            "WARNING:tensorflow:From /usr/local/lib/python3.6/dist-packages/keras/backend/tensorflow_backend.py:216: The name tf.is_variable_initialized is deprecated. Please use tf.compat.v1.is_variable_initialized instead.\n",
            "\n",
            "WARNING:tensorflow:From /usr/local/lib/python3.6/dist-packages/keras/backend/tensorflow_backend.py:223: The name tf.variables_initializer is deprecated. Please use tf.compat.v1.variables_initializer instead.\n",
            "\n",
            "1566/1566 [==============================] - 282s 180ms/step - loss: 4.8309e-04\n"
          ],
          "name": "stdout"
        },
        {
          "output_type": "execute_result",
          "data": {
            "text/plain": [
              "<keras.callbacks.History at 0x7f09b2cf1c50>"
            ]
          },
          "metadata": {
            "tags": []
          },
          "execution_count": 13
        }
      ]
    },
    {
      "cell_type": "code",
      "metadata": {
        "id": "_ZVhZkxX4T0V",
        "colab_type": "code",
        "colab": {}
      },
      "source": [
        "# Create the testing dataset\n",
        "# Create new array conatining containing scaled value from index 1566 to 2032\n",
        "test_data = scaled_data[training_data_len-60:, :]\n",
        "# Create the datasets x_test and y_test\n",
        "x_test = []\n",
        "y_test = dataset[training_data_len:, :]\n",
        "# y_test will be the value we want our model to predict\n",
        "for i in range(60,len(test_data)):\n",
        "  x_test.append(test_data[i-60:i,0])\n",
        "  "
      ],
      "execution_count": null,
      "outputs": []
    },
    {
      "cell_type": "code",
      "metadata": {
        "id": "P32RTp5z537a",
        "colab_type": "code",
        "colab": {}
      },
      "source": [
        "# Convert the data into a numpy array so that we can use it in LSTM Model\n",
        "x_test =np.array(x_test)"
      ],
      "execution_count": null,
      "outputs": []
    },
    {
      "cell_type": "code",
      "metadata": {
        "id": "5gsy3G_56Gg8",
        "colab_type": "code",
        "colab": {}
      },
      "source": [
        "# Reshape the data\n",
        "x_test = np.reshape(x_test,(x_test.shape[0],x_test.shape[1],1))"
      ],
      "execution_count": null,
      "outputs": []
    },
    {
      "cell_type": "code",
      "metadata": {
        "id": "547HL0qb6ua-",
        "colab_type": "code",
        "colab": {}
      },
      "source": [
        "# Get the models predicted price values\n",
        "predictions = model.predict(x_test)\n",
        "predictions = scaler.inverse_transform(predictions)"
      ],
      "execution_count": null,
      "outputs": []
    },
    {
      "cell_type": "code",
      "metadata": {
        "id": "HIk0uTkU7PJs",
        "colab_type": "code",
        "colab": {
          "base_uri": "https://localhost:8080/",
          "height": 34
        },
        "outputId": "a684347a-f657-4bd5-a4cc-d019e0e996f0"
      },
      "source": [
        "# Evalue the model br getting root mean squared error (RMSE) \n",
        "# Lower value of RMSE indicated better fit\n",
        "rmse = np.sqrt(np.mean(predictions - y_test)**2)\n",
        "rmse"
      ],
      "execution_count": null,
      "outputs": [
        {
          "output_type": "execute_result",
          "data": {
            "text/plain": [
              "3.9613851537845406"
            ]
          },
          "metadata": {
            "tags": []
          },
          "execution_count": 18
        }
      ]
    },
    {
      "cell_type": "code",
      "metadata": {
        "id": "QX4E1nHV77qt",
        "colab_type": "code",
        "colab": {
          "base_uri": "https://localhost:8080/",
          "height": 661
        },
        "outputId": "c333c951-672d-448f-803b-e2e78c5455c0"
      },
      "source": [
        "# Plot the data\n",
        "train = data[:training_data_len]\n",
        "valid = data[training_data_len:]\n",
        "valid['Prediction'] = predictions\n",
        "# Visualize the data\n",
        "plt.figure(figsize=(16,8))\n",
        "plt.title('Model')\n",
        "plt.xlabel('Date',fontsize=16)\n",
        "plt.ylabel('Close Price',fontsize=16)\n",
        "plt.plot(train['Close'])\n",
        "plt.plot(valid[['Close','Prediction']])\n",
        "plt.legend(['Train', 'Val', 'Prediction'], loc='lower right')\n",
        "plt.show()"
      ],
      "execution_count": null,
      "outputs": [
        {
          "output_type": "stream",
          "text": [
            "/usr/local/lib/python3.6/dist-packages/ipykernel_launcher.py:3: SettingWithCopyWarning: \n",
            "A value is trying to be set on a copy of a slice from a DataFrame.\n",
            "Try using .loc[row_indexer,col_indexer] = value instead\n",
            "\n",
            "See the caveats in the documentation: http://pandas.pydata.org/pandas-docs/stable/user_guide/indexing.html#returning-a-view-versus-a-copy\n",
            "  This is separate from the ipykernel package so we can avoid doing imports until\n"
          ],
          "name": "stderr"
        },
        {
          "output_type": "display_data",
          "data": {
            "image/png": "[encoded data removed]",
            "text/plain": [
              "<Figure size 1152x576 with 1 Axes>"
            ]
          },
          "metadata": {
            "tags": []
          }
        }
      ]
    },
    {
      "cell_type": "code",
      "metadata": {
        "id": "FgZT_Wn89Vft",
        "colab_type": "code",
        "colab": {
          "base_uri": "https://localhost:8080/",
          "height": 436
        },
        "outputId": "44e23b68-5979-414d-af57-64153fc38c67"
      },
      "source": [
        "# Show the valid and predicted price\n",
        "valid"
      ],
      "execution_count": null,
      "outputs": [
        {
          "output_type": "execute_result",
          "data": {
            "text/html": [
              "<div>\n",
              "<style scoped>\n",
              "    .dataframe tbody tr th:only-of-type {\n",
              "        vertical-align: middle;\n",
              "    }\n",
              "\n",
              "    .dataframe tbody tr th {\n",
              "        vertical-align: top;\n",
              "    }\n",
              "\n",
              "    .dataframe thead th {\n",
              "        text-align: right;\n",
              "    }\n",
              "</style>\n",
              "<table border=\"1\" class=\"dataframe\">\n",
              "  <thead>\n",
              "    <tr style=\"text-align: right;\">\n",
              "      <th></th>\n",
              "      <th>Close</th>\n",
              "      <th>Prediction</th>\n",
              "    </tr>\n",
              "    <tr>\n",
              "      <th>Date</th>\n",
              "      <th></th>\n",
              "      <th></th>\n",
              "    </tr>\n",
              "  </thead>\n",
              "  <tbody>\n",
              "    <tr>\n",
              "      <th>2018-06-20</th>\n",
              "      <td>186.500000</td>\n",
              "      <td>187.653137</td>\n",
              "    </tr>\n",
              "    <tr>\n",
              "      <th>2018-06-21</th>\n",
              "      <td>185.460007</td>\n",
              "      <td>186.818542</td>\n",
              "    </tr>\n",
              "    <tr>\n",
              "      <th>2018-06-22</th>\n",
              "      <td>184.919998</td>\n",
              "      <td>186.015945</td>\n",
              "    </tr>\n",
              "    <tr>\n",
              "      <th>2018-06-25</th>\n",
              "      <td>182.169998</td>\n",
              "      <td>185.283035</td>\n",
              "    </tr>\n",
              "    <tr>\n",
              "      <th>2018-06-26</th>\n",
              "      <td>184.429993</td>\n",
              "      <td>184.311951</td>\n",
              "    </tr>\n",
              "    <tr>\n",
              "      <th>...</th>\n",
              "      <td>...</td>\n",
              "      <td>...</td>\n",
              "    </tr>\n",
              "    <tr>\n",
              "      <th>2020-01-24</th>\n",
              "      <td>318.309998</td>\n",
              "      <td>305.822266</td>\n",
              "    </tr>\n",
              "    <tr>\n",
              "      <th>2020-01-27</th>\n",
              "      <td>308.950012</td>\n",
              "      <td>306.426971</td>\n",
              "    </tr>\n",
              "    <tr>\n",
              "      <th>2020-01-28</th>\n",
              "      <td>317.690002</td>\n",
              "      <td>305.480682</td>\n",
              "    </tr>\n",
              "    <tr>\n",
              "      <th>2020-01-29</th>\n",
              "      <td>324.339996</td>\n",
              "      <td>305.295685</td>\n",
              "    </tr>\n",
              "    <tr>\n",
              "      <th>2020-01-30</th>\n",
              "      <td>323.869995</td>\n",
              "      <td>306.429321</td>\n",
              "    </tr>\n",
              "  </tbody>\n",
              "</table>\n",
              "<p>406 rows × 2 columns</p>\n",
              "</div>"
            ],
            "text/plain": [
              "                 Close  Prediction\n",
              "Date                              \n",
              "2018-06-20  186.500000  187.653137\n",
              "2018-06-21  185.460007  186.818542\n",
              "2018-06-22  184.919998  186.015945\n",
              "2018-06-25  182.169998  185.283035\n",
              "2018-06-26  184.429993  184.311951\n",
              "...                ...         ...\n",
              "2020-01-24  318.309998  305.822266\n",
              "2020-01-27  308.950012  306.426971\n",
              "2020-01-28  317.690002  305.480682\n",
              "2020-01-29  324.339996  305.295685\n",
              "2020-01-30  323.869995  306.429321\n",
              "\n",
              "[406 rows x 2 columns]"
            ]
          },
          "metadata": {
            "tags": []
          },
          "execution_count": 20
        }
      ]
    },
    {
      "cell_type": "code",
      "metadata": {
        "id": "ffIg2TEi9sv3",
        "colab_type": "code",
        "colab": {
          "base_uri": "https://localhost:8080/",
          "height": 34
        },
        "outputId": "435b846b-b8d0-46ed-c537-843e51f47827"
      },
      "source": [
        "# Get the quote\n",
        "apple_quote = web.DataReader('AAPL', data_source='yahoo', start='2012-01-01', end='2020-02-20')\n",
        "# Create a new dataframe\n",
        "new_df = apple_quote.filter(['Close'])\n",
        "# Ge the last 60 day close price value and convert the dataframe to array\n",
        "last_60_days = new_df[-60:].values\n",
        "# Scale the data to be values between 0 & 1\n",
        "last_60_days_scaled = scaler.transform(last_60_days)\n",
        "# Create an empty list\n",
        "X_test = []\n",
        "# Append the past 60 days\n",
        "X_test.append(last_60_days_scaled)\n",
        "# Convert the X_test to numpy array\n",
        "X_test = np.array(X_test)\n",
        "# Reshape the data\n",
        "X_test = np.reshape(X_test,(X_test.shape[0],X_test.shape[1],1))\n",
        "# Get the predicted scale data\n",
        "pred_price = model.predict(X_test)\n",
        "# undo the scaling\n",
        "pred_price = scaler.inverse_transform(pred_price)\n",
        "print(pred_price)"
      ],
      "execution_count": null,
      "outputs": [
        {
          "output_type": "stream",
          "text": [
            "[[312.1597]]\n"
          ],
          "name": "stdout"
        }
      ]
    },
    {
      "cell_type": "code",
      "metadata": {
        "id": "_Zkj-jrC_zyA",
        "colab_type": "code",
        "colab": {
          "base_uri": "https://localhost:8080/",
          "height": 70
        },
        "outputId": "a37a69ce-daae-4b1d-f5e2-cada78375765"
      },
      "source": [
        "# Get the quote\n",
        "apple_quote2 = web.DataReader('AAPL', data_source='yahoo', start='2020-02-20', end='2020-02-20')\n",
        "print(apple_quote2['Close'])"
      ],
      "execution_count": null,
      "outputs": [
        {
          "output_type": "stream",
          "text": [
            "Date\n",
            "2020-02-19    323.619995\n",
            "Name: Close, dtype: float64\n"
          ],
          "name": "stdout"
        }
      ]
    }
  ]
}